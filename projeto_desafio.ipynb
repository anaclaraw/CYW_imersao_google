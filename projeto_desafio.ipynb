{
  "nbformat": 4,
  "nbformat_minor": 0,
  "metadata": {
    "colab": {
      "provenance": [],
      "authorship_tag": "ABX9TyMi5X8MBcJPU3II5U6Fy32g",
      "include_colab_link": true
    },
    "kernelspec": {
      "name": "python3",
      "display_name": "Python 3"
    },
    "language_info": {
      "name": "python"
    }
  },
  "cells": [
    {
      "cell_type": "markdown",
      "metadata": {
        "id": "view-in-github",
        "colab_type": "text"
      },
      "source": [
        "<a href=\"https://colab.research.google.com/github/anaclaraw/CYW_imersao_google/blob/main/projeto_desafio.ipynb\" target=\"_parent\"><img src=\"https://colab.research.google.com/assets/colab-badge.svg\" alt=\"Open In Colab\"/></a>"
      ]
    },
    {
      "cell_type": "markdown",
      "source": [
        "Inicializando e importando modulos e bibliotecas."
      ],
      "metadata": {
        "id": "FGeW0zKdur8B"
      }
    },
    {
      "cell_type": "code",
      "execution_count": 2,
      "metadata": {
        "id": "vBbI23Y20dlY"
      },
      "outputs": [],
      "source": [
        "import google.generativeai as genai\n",
        "import pandas as pd\n",
        "import numpy as np\n",
        "from google.colab import userdata\n",
        "\n",
        "GOOGLE_API_KEY=userdata.get('SECRET_KEY')\n",
        "genai.configure(api_key=GOOGLE_API_KEY)\n",
        "\n",
        "#Definindo configurações gerais do model\n",
        "generation_config = {\n",
        "    \"candidate_count\":1, #trazer apenas uma opção\n",
        "    \"temperature\":0.7,\n",
        "}\n",
        "safety_settings = {\n",
        "    \"HARASSMENT\":\"BLOCK_NONE\",\n",
        "    \"HATE\":\"BLOCK_NONE\",\n",
        "    \"SEXUAL\":\"BLOCK_NONE\",\n",
        "    \"DANGEROUS\":\"BLOCK_NONE\"\n",
        "}\n",
        "model = genai.GenerativeModel(model_name=\"gemini-1.0-pro\", safety_settings=safety_settings,generation_config=generation_config)"
      ]
    },
    {
      "cell_type": "markdown",
      "source": [
        "Criando lógica da geração de conteúdo e exercícios pelo API."
      ],
      "metadata": {
        "id": "ZWS4ofSQut_m"
      }
    },
    {
      "cell_type": "code",
      "source": [
        "chat = model.start_chat(history=[])\n",
        "continue_learning = \"\"\n",
        "\n",
        "while (continue_learning.upper() != 'NAO' and continue_learning.upper() != 'NÃO'):\n",
        "  prompt = input(\"Digite com qual linguagem deseja aprender...\")\n",
        "  print(\"Preparando seu conteúdo...\")\n",
        "  conteudo = chat.send_message(f\"Com foco em ensinar inglês vá traduzindo as palavras enquento explica brevemente sobre a linguagem {prompt}, fale como ela é utilizada com algumas palavras(DURANTE a explicação use palavras em inglês bem populares no cotidiano),e em mostre em seguida pedeços de códigos simples que utilize termos em inglês e seu significado tanto em português como a sua função no código. Use a formatação do texto como markdown\")\n",
        "  print(f\"{conteudo.text}\")\n",
        "\n",
        "  def next_question(question):\n",
        "    next = input(\"***********Pronto para o exercício?**************\")\n",
        "    if next.upper() == 'SIM':\n",
        "      print(\"Preparando seu Exercício...\")\n",
        "      response = chat.send_message({question})\n",
        "      print(\"\\n\",f\"{response.text}\")\n",
        "      prompt = input(\"Digite sua resposta...\")\n",
        "      response = chat.send_message(f\"a lacuna/resposta seria {prompt}? se não for me diga qual seria a resposta certa.\")\n",
        "      return response.text\n",
        "    else:\n",
        "      prompt = input(\"Se ficou com alguma dúvida digite aqui ou digite NÃO para encerrar o programa.\")\n",
        "      if prompt.upper() != 'NÃO' and prompt.upper() != 'NAO':\n",
        "        prompt = input(\"Digite aqui sua dúvida:\")\n",
        "        response = chat.send_message(prompt)\n",
        "        return response.text\n",
        "      else:\n",
        "        exit()\n",
        "\n",
        "  print(next_question(\"Agora faça um exercício breve e simples sobre essa linguagem, focando em ensinar inglês, que consista em completar uma lacuna do código nessa linguagem, utilize um ou mais elemnetos da sintaxe que explicou anteriormente. Não me dê a resposta.'\\n'\" ))\n",
        "\n",
        "  print(\"\\n\", \"Vamos para mais uma!\", \"\\n\")\n",
        "\n",
        "  conteudo = chat.send_message(f\"Fale mais um pouco a fundo sobre a linguagem, mas agora use uma frase completamente em inglês e faça uma tradução bem detalhada para o português, pode até usar exemplos de formas de usar os termos.\")\n",
        "  print(\"\\n\",f\"{conteudo.text}\",\"\\n\")\n",
        "\n",
        "  print(next_question(\"faça um exercício que contenha algum dos termos utilizados na frase criada em inglês e deixe uma lacuna, não me dê a resposta.\"))\n",
        "\n",
        "  conteudo = chat.send_message(f\"Em tom de finalização, complete com mais explicações sobre a linguagem e inglês\")\n",
        "  print(\"\\n\",f\"{conteudo.text}\",\"\\n\")\n",
        "\n",
        "  print(f\"Você está indo muito bem, que tal avançar de nível ou trocar de linguagem?\")\n",
        "  continue_learning = input(\"Topa?\")"
      ],
      "metadata": {
        "id": "j3sk-DF16u6M",
        "colab": {
          "base_uri": "https://localhost:8080/",
          "height": 1000
        },
        "outputId": "c617dfad-7ab2-46cc-98f5-e20b43077909"
      },
      "execution_count": null,
      "outputs": [
        {
          "name": "stdout",
          "output_type": "stream",
          "text": [
            "Digite com qual linguagem deseja aprender...js\n",
            "Preparando seu conteúdo...\n",
            "**Introdução ao JavaScript**\n",
            "\n",
            "JavaScript (JS) é uma linguagem de programação amplamente utilizada para adicionar interatividade e funcionalidades a páginas da web. É uma linguagem interpretada, o que significa que o código é executado diretamente pelo navegador sem a necessidade de compilação.\n",
            "\n",
            "**Uso de JavaScript**\n",
            "\n",
            "* **Adicionar eventos aos elementos:** Permite que os usuários interajam com elementos da página, como botões e formulários.\n",
            "* **Manipular o DOM:** O Document Object Model (DOM) representa a estrutura da página da web e o JavaScript permite que você acesse e modifique seus elementos.\n",
            "* **Criar efeitos visuais:** O JavaScript pode ser usado para criar animações, transições e outros efeitos visuais para aprimorar a experiência do usuário.\n",
            "* **Validar dados do usuário:** O JavaScript pode validar dados inseridos por usuários, como formulários, antes de enviá-los para o servidor.\n",
            "* **Processar dados do lado do cliente:** O JavaScript pode processar dados e realizar cálculos no lado do cliente, reduzindo a carga do servidor.\n",
            "\n",
            "**Termos Comuns em JavaScript**\n",
            "\n",
            "* **Variable:** Variável que armazena dados.\n",
            "* **Function:** Bloco de código reutilizável.\n",
            "* **Event:** Ação do usuário que aciona uma resposta do JavaScript.\n",
            "* **DOM:** Document Object Model, que representa a estrutura da página da web.\n",
            "* **API:** Interface de programação de aplicativos, que permite que o JavaScript interaja com recursos do navegador.\n",
            "\n",
            "**Códigos Simples**\n",
            "\n",
            "**Código 1:**\n",
            "\n",
            "```javascript\n",
            "console.log(\"Hello, world!\");\n",
            "```\n",
            "\n",
            "* **Significado:** Exibe a mensagem \"Hello, world!\" no console do navegador.\n",
            "* **Função:** Para depuração e impressão de informações.\n",
            "\n",
            "**Código 2:**\n",
            "\n",
            "```javascript\n",
            "const name = \"John\";\n",
            "alert(`Hello, ${name}!`);\n",
            "```\n",
            "\n",
            "* **Significado:** Cria uma variável `name` e exibe uma mensagem de alerta com o nome do usuário.\n",
            "* **Função:** Para armazenar e exibir dados do usuário.\n",
            "***********Pronto para o exercício?**************nao\n",
            "Se ficou com alguma dúvida digite aqui ou digite NÃO para encerrar o programa.nao\n",
            "None\n",
            "\n",
            " Vamos para mais uma! \n",
            "\n",
            "\n",
            " **Frase em inglês:**\n",
            "\n",
            "```\n",
            "JavaScript is a high-level, interpreted programming language that conforms to the ECMAScript standard.\n",
            "```\n",
            "\n",
            "**Tradução detalhada:**\n",
            "\n",
            "* **JavaScript:** É o nome da linguagem de programação.\n",
            "* **High-level:** Significa que o JavaScript é uma linguagem de alto nível, o que significa que ela é mais próxima da linguagem humana e mais fácil de ler e escrever do que as linguagens de baixo nível, como assembly.\n",
            "* **Interpreted:** Significa que o código JavaScript é executado diretamente pelo navegador, linha por linha, sem a necessidade de compilação em um arquivo executável.\n",
            "* **Conforms to the ECMAScript standard:** Significa que o JavaScript segue um padrão definido pela Ecma International, que garante a compatibilidade e a interoperabilidade entre diferentes navegadores e ambientes.\n",
            "\n",
            "**Exemplos de uso dos termos:**\n",
            "\n",
            "* **High-level:** O JavaScript permite que os desenvolvedores escrevam código que é fácil de entender e manter, como:\n",
            "\n",
            "```javascript\n",
            "const message = \"Hello, world!\";\n",
            "console.log(message);\n",
            "```\n",
            "\n",
            "* **Interpreted:** O JavaScript é executado diretamente pelo navegador, sem a necessidade de compilação, o que permite que os desenvolvedores testem e depurem seu código rapidamente:\n",
            "\n",
            "```javascript\n",
            "alert(\"This code will run immediately in the browser.\");\n",
            "```\n",
            "\n",
            "* **Conforms to the ECMAScript standard:** O padrão ECMAScript garante que o código JavaScript seja executado de forma consistente em diferentes navegadores. Por exemplo, a função `console.log()` funciona da mesma forma no Chrome, Firefox e Safari:\n",
            "\n",
            "```javascript\n",
            "console.log(\"This message will be displayed in the console of all major browsers.\");\n",
            "``` \n",
            "\n",
            "***********Pronto para o exercício?**************nao\n",
            "Se ficou com alguma dúvida digite aqui ou digite NÃO para encerrar o programa.nao\n",
            "None\n",
            "\n",
            " **Conclusão**\n",
            "\n",
            "JavaScript é uma linguagem de programação versátil e poderosa que se tornou essencial para o desenvolvimento web moderno. Sua natureza interpretada e conformidade com o padrão ECMAScript a tornam fácil de aprender e usar, enquanto seus recursos avançados permitem que os desenvolvedores criem aplicativos da web interativos e dinâmicos.\n",
            "\n",
            "**Inglês para Desenvolvedores JavaScript**\n",
            "\n",
            "Além dos termos técnicos específicos do JavaScript, os desenvolvedores também precisam de um bom domínio do inglês para:\n",
            "\n",
            "* **Ler documentação:** A maior parte da documentação do JavaScript está disponível em inglês.\n",
            "* **Participar de comunidades online:** Os fóruns e grupos de discussão sobre JavaScript são predominantemente em inglês.\n",
            "* **Trabalhar em equipes internacionais:** Muitos projetos de desenvolvimento de software são realizados por equipes globais, onde o inglês é a língua franca.\n",
            "\n",
            "**Dicas para Melhorar o Inglês para Desenvolvedores JavaScript**\n",
            "\n",
            "* **Leia documentação e artigos técnicos:** Exponha-se a textos em inglês relacionados a JavaScript para melhorar seu vocabulário e compreensão.\n",
            "* **Participe de fóruns e grupos de discussão:** Interaja com outros desenvolvedores em inglês para praticar sua comunicação escrita.\n",
            "* **Faça cursos online ou presenciais:** Existem muitos recursos disponíveis para ajudar os desenvolvedores a melhorar suas habilidades em inglês.\n",
            "* **Use ferramentas de tradução:** Quando necessário, use ferramentas de tradução como o Google Tradutor para entender textos técnicos em inglês.\n",
            "\n",
            "Dominar o inglês é essencial para os desenvolvedores JavaScript que desejam se destacar em suas carreiras e colaborar efetivamente com outros profissionais do setor. \n",
            "\n",
            "Você está indo muito bem, que tal avançar de nível ou trocar de linguagem?\n",
            "Topa?nao\n"
          ]
        }
      ]
    }
  ]
}